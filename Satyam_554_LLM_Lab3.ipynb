{
  "cells": [
    {
      "cell_type": "markdown",
      "metadata": {
        "id": "view-in-github",
        "colab_type": "text"
      },
      "source": [
        "<a href=\"https://colab.research.google.com/github/SJhawar1010/LLM/blob/main/Satyam_554_LLM_Lab3.ipynb\" target=\"_parent\"><img src=\"https://colab.research.google.com/assets/colab-badge.svg\" alt=\"Open In Colab\"/></a>"
      ]
    },
    {
      "cell_type": "code",
      "source": [
        "pip install langchain_groq"
      ],
      "metadata": {
        "colab": {
          "base_uri": "https://localhost:8080/"
        },
        "id": "Sp0W0LU8exQJ",
        "outputId": "4cae0e3f-0b99-41f9-a319-3ecb01d9fd80"
      },
      "id": "Sp0W0LU8exQJ",
      "execution_count": 1,
      "outputs": [
        {
          "output_type": "stream",
          "name": "stdout",
          "text": [
            "Collecting langchain_groq\n",
            "  Downloading langchain_groq-0.1.6-py3-none-any.whl (14 kB)\n",
            "Collecting groq<1,>=0.4.1 (from langchain_groq)\n",
            "  Downloading groq-0.9.0-py3-none-any.whl (103 kB)\n",
            "\u001b[2K     \u001b[90m━━━━━━━━━━━━━━━━━━━━━━━━━━━━━━━━━━━━━━━━\u001b[0m \u001b[32m103.5/103.5 kB\u001b[0m \u001b[31m3.0 MB/s\u001b[0m eta \u001b[36m0:00:00\u001b[0m\n",
            "\u001b[?25hCollecting langchain-core<0.3,>=0.2.2 (from langchain_groq)\n",
            "  Downloading langchain_core-0.2.22-py3-none-any.whl (373 kB)\n",
            "\u001b[2K     \u001b[90m━━━━━━━━━━━━━━━━━━━━━━━━━━━━━━━━━━━━━━━━\u001b[0m \u001b[32m373.5/373.5 kB\u001b[0m \u001b[31m5.9 MB/s\u001b[0m eta \u001b[36m0:00:00\u001b[0m\n",
            "\u001b[?25hRequirement already satisfied: anyio<5,>=3.5.0 in /usr/local/lib/python3.10/dist-packages (from groq<1,>=0.4.1->langchain_groq) (3.7.1)\n",
            "Requirement already satisfied: distro<2,>=1.7.0 in /usr/lib/python3/dist-packages (from groq<1,>=0.4.1->langchain_groq) (1.7.0)\n",
            "Collecting httpx<1,>=0.23.0 (from groq<1,>=0.4.1->langchain_groq)\n",
            "  Downloading httpx-0.27.0-py3-none-any.whl (75 kB)\n",
            "\u001b[2K     \u001b[90m━━━━━━━━━━━━━━━━━━━━━━━━━━━━━━━━━━━━━━━━\u001b[0m \u001b[32m75.6/75.6 kB\u001b[0m \u001b[31m7.2 MB/s\u001b[0m eta \u001b[36m0:00:00\u001b[0m\n",
            "\u001b[?25hRequirement already satisfied: pydantic<3,>=1.9.0 in /usr/local/lib/python3.10/dist-packages (from groq<1,>=0.4.1->langchain_groq) (2.8.2)\n",
            "Requirement already satisfied: sniffio in /usr/local/lib/python3.10/dist-packages (from groq<1,>=0.4.1->langchain_groq) (1.3.1)\n",
            "Requirement already satisfied: typing-extensions<5,>=4.7 in /usr/local/lib/python3.10/dist-packages (from groq<1,>=0.4.1->langchain_groq) (4.12.2)\n",
            "Requirement already satisfied: PyYAML>=5.3 in /usr/local/lib/python3.10/dist-packages (from langchain-core<0.3,>=0.2.2->langchain_groq) (6.0.1)\n",
            "Collecting jsonpatch<2.0,>=1.33 (from langchain-core<0.3,>=0.2.2->langchain_groq)\n",
            "  Downloading jsonpatch-1.33-py2.py3-none-any.whl (12 kB)\n",
            "Collecting langsmith<0.2.0,>=0.1.75 (from langchain-core<0.3,>=0.2.2->langchain_groq)\n",
            "  Downloading langsmith-0.1.93-py3-none-any.whl (139 kB)\n",
            "\u001b[2K     \u001b[90m━━━━━━━━━━━━━━━━━━━━━━━━━━━━━━━━━━━━━━━━\u001b[0m \u001b[32m139.8/139.8 kB\u001b[0m \u001b[31m7.0 MB/s\u001b[0m eta \u001b[36m0:00:00\u001b[0m\n",
            "\u001b[?25hRequirement already satisfied: packaging<25,>=23.2 in /usr/local/lib/python3.10/dist-packages (from langchain-core<0.3,>=0.2.2->langchain_groq) (24.1)\n",
            "Requirement already satisfied: tenacity!=8.4.0,<9.0.0,>=8.1.0 in /usr/local/lib/python3.10/dist-packages (from langchain-core<0.3,>=0.2.2->langchain_groq) (8.5.0)\n",
            "Requirement already satisfied: idna>=2.8 in /usr/local/lib/python3.10/dist-packages (from anyio<5,>=3.5.0->groq<1,>=0.4.1->langchain_groq) (3.7)\n",
            "Requirement already satisfied: exceptiongroup in /usr/local/lib/python3.10/dist-packages (from anyio<5,>=3.5.0->groq<1,>=0.4.1->langchain_groq) (1.2.2)\n",
            "Requirement already satisfied: certifi in /usr/local/lib/python3.10/dist-packages (from httpx<1,>=0.23.0->groq<1,>=0.4.1->langchain_groq) (2024.7.4)\n",
            "Collecting httpcore==1.* (from httpx<1,>=0.23.0->groq<1,>=0.4.1->langchain_groq)\n",
            "  Downloading httpcore-1.0.5-py3-none-any.whl (77 kB)\n",
            "\u001b[2K     \u001b[90m━━━━━━━━━━━━━━━━━━━━━━━━━━━━━━━━━━━━━━━━\u001b[0m \u001b[32m77.9/77.9 kB\u001b[0m \u001b[31m7.1 MB/s\u001b[0m eta \u001b[36m0:00:00\u001b[0m\n",
            "\u001b[?25hCollecting h11<0.15,>=0.13 (from httpcore==1.*->httpx<1,>=0.23.0->groq<1,>=0.4.1->langchain_groq)\n",
            "  Downloading h11-0.14.0-py3-none-any.whl (58 kB)\n",
            "\u001b[2K     \u001b[90m━━━━━━━━━━━━━━━━━━━━━━━━━━━━━━━━━━━━━━━━\u001b[0m \u001b[32m58.3/58.3 kB\u001b[0m \u001b[31m6.8 MB/s\u001b[0m eta \u001b[36m0:00:00\u001b[0m\n",
            "\u001b[?25hCollecting jsonpointer>=1.9 (from jsonpatch<2.0,>=1.33->langchain-core<0.3,>=0.2.2->langchain_groq)\n",
            "  Downloading jsonpointer-3.0.0-py2.py3-none-any.whl (7.6 kB)\n",
            "Collecting orjson<4.0.0,>=3.9.14 (from langsmith<0.2.0,>=0.1.75->langchain-core<0.3,>=0.2.2->langchain_groq)\n",
            "  Downloading orjson-3.10.6-cp310-cp310-manylinux_2_17_x86_64.manylinux2014_x86_64.whl (141 kB)\n",
            "\u001b[2K     \u001b[90m━━━━━━━━━━━━━━━━━━━━━━━━━━━━━━━━━━━━━━━━\u001b[0m \u001b[32m141.1/141.1 kB\u001b[0m \u001b[31m4.8 MB/s\u001b[0m eta \u001b[36m0:00:00\u001b[0m\n",
            "\u001b[?25hRequirement already satisfied: requests<3,>=2 in /usr/local/lib/python3.10/dist-packages (from langsmith<0.2.0,>=0.1.75->langchain-core<0.3,>=0.2.2->langchain_groq) (2.31.0)\n",
            "Requirement already satisfied: annotated-types>=0.4.0 in /usr/local/lib/python3.10/dist-packages (from pydantic<3,>=1.9.0->groq<1,>=0.4.1->langchain_groq) (0.7.0)\n",
            "Requirement already satisfied: pydantic-core==2.20.1 in /usr/local/lib/python3.10/dist-packages (from pydantic<3,>=1.9.0->groq<1,>=0.4.1->langchain_groq) (2.20.1)\n",
            "Requirement already satisfied: charset-normalizer<4,>=2 in /usr/local/lib/python3.10/dist-packages (from requests<3,>=2->langsmith<0.2.0,>=0.1.75->langchain-core<0.3,>=0.2.2->langchain_groq) (3.3.2)\n",
            "Requirement already satisfied: urllib3<3,>=1.21.1 in /usr/local/lib/python3.10/dist-packages (from requests<3,>=2->langsmith<0.2.0,>=0.1.75->langchain-core<0.3,>=0.2.2->langchain_groq) (2.0.7)\n",
            "Installing collected packages: orjson, jsonpointer, h11, jsonpatch, httpcore, langsmith, httpx, langchain-core, groq, langchain_groq\n",
            "Successfully installed groq-0.9.0 h11-0.14.0 httpcore-1.0.5 httpx-0.27.0 jsonpatch-1.33 jsonpointer-3.0.0 langchain-core-0.2.22 langchain_groq-0.1.6 langsmith-0.1.93 orjson-3.10.6\n"
          ]
        }
      ]
    },
    {
      "cell_type": "code",
      "execution_count": 2,
      "id": "67f33c87-88c3-44bf-b825-96f15deff71f",
      "metadata": {
        "id": "67f33c87-88c3-44bf-b825-96f15deff71f",
        "outputId": "b7d31022-22c2-4df1-b4e5-f95a3c0fa0c3",
        "colab": {
          "base_uri": "https://localhost:8080/"
        }
      },
      "outputs": [
        {
          "output_type": "stream",
          "name": "stdout",
          "text": [
            "Enter a topic on which you want to write a story on:cricket\n",
            "It was a sunny day in Mumbai, India, and the air was electric with excitement. The iconic Wankhede Stadium was buzzing with fans, all dressed in blue and eager to witness the biggest cricket match of the year. The Indian national team, led by the charismatic Rohan \"Rocky\" Rao, was taking on their arch-rivals, Pakistan, in the final of the Asia Cup.\n",
            "\n",
            "As the players took to the field, the crowd erupted in a frenzy of cheers and chants. Rocky, a tall, dark-haired batsman with a reputation for fearlessness, was the undisputed hero of Indian cricket. He had led the team to several victories in the past, and his fans expected nothing but a win from him today.\n",
            "\n",
            "The Pakistani team, led by the cunning and experienced captain, Ali Khan, looked determined to spoil the party. They had been training hard for months, and their pace attack, led by the fiery fast bowler, Zafar Iqbal, was touted to be one of the best in the world.\n",
            "\n",
            "As the game began, the Indian openers, Karan \"The King\" Kumar and Rohit \"The Rocket\" Rao (Rocky's younger brother), took to the crease. The Pakistani bowlers came out swinging, but the Indian duo was not intimidated. They played some exquisite shots, and the scoreboard began to tick along nicely.\n",
            "\n",
            "However, just when it seemed like India was cruising, Zafar Iqbal struck, bowling Rohit with a beauty of a delivery. The crowd was stunned, but Rocky strode out to the crease, his confidence and determination evident on his face.\n",
            "\n",
            "Rocky and Karan formed a solid partnership, taking the score to 150 before Karan fell to a brilliant catch by the Pakistani wicketkeeper. Rocky, however, was not deterred. He played some audacious shots, taking on the Pakistani bowlers with his trademark aggression.\n",
            "\n",
            "As the Indian innings drew to a close, Rocky was still going strong, his score an impressive 85. The Indian team had managed to post a competitive total of 250, thanks largely to Rocky's heroics.\n",
            "\n",
            "The Pakistani openers, Imran \"The Iceman\" Ibrahim and Salman \"The Sultan\" Siddiqui, came out with a clear plan to attack the Indian bowlers. They played some aggressive shots, taking the score to 50 in just 5 overs.\n",
            "\n",
            "However, the Indian bowlers, led by the wily spinners, Amit \"The Axe\" Agarwal and Raghav \"The Raja\" Rao, fought back. They tightened their lines, and the Pakistani batsmen began to struggle.\n",
            "\n",
            "As the game hung in the balance, Rocky brought himself on to bowl. He had a reputation for being a part-time bowler, but his skills with the ball were often underestimated. Today, he proved his doubters wrong, bowling a mesmerizing spell that accounted for three Pakistani wickets.\n",
            "\n",
            "The Pakistani tail-enders fought hard, but the Indian bowlers were relentless. In the end, Pakistan was bowled out for 220, 30 runs short of the target.\n",
            "\n",
            "The Indian team erupted in joy, hugging each other and celebrating their victory. Rocky, the hero of the match, was lifted onto the shoulders of his teammates, a beaming smile on his face.\n",
            "\n",
            "As the crowd cheered and chanted his name, Rocky looked up at the sky, his eyes shining with pride and gratitude. This was the moment he had been working towards his entire life, and he had delivered.\n",
            "\n",
            "The Asia Cup was coming home, and Rocky had cemented his place as one of the all-time greats of Indian cricket.\n"
          ]
        }
      ],
      "source": [
        "from langchain_groq import ChatGroq\n",
        "from langchain_core.messages import HumanMessage\n",
        "\n",
        "GROQ_API_KEY = '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'\n",
        "model = ChatGroq(model=\"llama3-70b-8192\", api_key=GROQ_API_KEY)\n",
        "\n",
        "def generate_response(question):\n",
        "    message = HumanMessage(content=question)\n",
        "    response = model.invoke([message])\n",
        "    return response.content\n",
        "\n",
        "question = input(\"Enter a topic on which you want to write a story on:\")\n",
        "answer = generate_response('write a story on '+question)\n",
        "print(answer)"
      ]
    },
    {
      "cell_type": "code",
      "execution_count": null,
      "id": "91453c86-7dfd-4e22-abde-dffe897c511b",
      "metadata": {
        "id": "91453c86-7dfd-4e22-abde-dffe897c511b"
      },
      "outputs": [],
      "source": []
    }
  ],
  "metadata": {
    "kernelspec": {
      "display_name": "Python 3 (ipykernel)",
      "language": "python",
      "name": "python3"
    },
    "language_info": {
      "codemirror_mode": {
        "name": "ipython",
        "version": 3
      },
      "file_extension": ".py",
      "mimetype": "text/x-python",
      "name": "python",
      "nbconvert_exporter": "python",
      "pygments_lexer": "ipython3",
      "version": "3.11.7"
    },
    "colab": {
      "provenance": [],
      "include_colab_link": true
    }
  },
  "nbformat": 4,
  "nbformat_minor": 5
}