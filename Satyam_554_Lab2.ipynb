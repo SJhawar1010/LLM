{
  "cells": [
    {
      "cell_type": "markdown",
      "metadata": {
        "id": "view-in-github",
        "colab_type": "text"
      },
      "source": [
        "<a href=\"https://colab.research.google.com/github/SJhawar1010/LLM/blob/main/Satyam_554_Lab2.ipynb\" target=\"_parent\"><img src=\"https://colab.research.google.com/assets/colab-badge.svg\" alt=\"Open In Colab\"/></a>"
      ]
    },
    {
      "cell_type": "code",
      "execution_count": 1,
      "id": "a2cf3d02-aa70-4c14-8430-84c9c7641213",
      "metadata": {
        "colab": {
          "base_uri": "https://localhost:8080/",
          "height": 383
        },
        "id": "a2cf3d02-aa70-4c14-8430-84c9c7641213",
        "outputId": "2509da62-96e7-43e2-de79-5a3513fb6538"
      },
      "outputs": [
        {
          "output_type": "error",
          "ename": "ModuleNotFoundError",
          "evalue": "No module named 'langchain_groq'",
          "traceback": [
            "\u001b[0;31m---------------------------------------------------------------------------\u001b[0m",
            "\u001b[0;31mModuleNotFoundError\u001b[0m                       Traceback (most recent call last)",
            "\u001b[0;32m<ipython-input-1-2d4fce7f73ce>\u001b[0m in \u001b[0;36m<cell line: 1>\u001b[0;34m()\u001b[0m\n\u001b[0;32m----> 1\u001b[0;31m \u001b[0;32mfrom\u001b[0m \u001b[0mlangchain_groq\u001b[0m \u001b[0;32mimport\u001b[0m \u001b[0mChatGroq\u001b[0m\u001b[0;34m\u001b[0m\u001b[0;34m\u001b[0m\u001b[0m\n\u001b[0m\u001b[1;32m      2\u001b[0m \u001b[0;32mfrom\u001b[0m \u001b[0mlangchain_core\u001b[0m\u001b[0;34m.\u001b[0m\u001b[0mmessages\u001b[0m \u001b[0;32mimport\u001b[0m \u001b[0mHumanMessage\u001b[0m\u001b[0;34m\u001b[0m\u001b[0;34m\u001b[0m\u001b[0m\n\u001b[1;32m      3\u001b[0m \u001b[0;34m\u001b[0m\u001b[0m\n\u001b[1;32m      4\u001b[0m \u001b[0mGROQ_API_KEY\u001b[0m \u001b[0;34m=\u001b[0m \u001b[0;34m'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'\u001b[0m\u001b[0;34m\u001b[0m\u001b[0;34m\u001b[0m\u001b[0m\n\u001b[1;32m      5\u001b[0m \u001b[0mmodel\u001b[0m \u001b[0;34m=\u001b[0m \u001b[0mChatGroq\u001b[0m\u001b[0;34m(\u001b[0m\u001b[0mmodel\u001b[0m\u001b[0;34m=\u001b[0m\u001b[0;34m\"llama3-70b-8192\"\u001b[0m\u001b[0;34m,\u001b[0m \u001b[0mapi_key\u001b[0m\u001b[0;34m=\u001b[0m\u001b[0mGROQ_API_KEY\u001b[0m\u001b[0;34m)\u001b[0m\u001b[0;34m\u001b[0m\u001b[0;34m\u001b[0m\u001b[0m\n",
            "\u001b[0;31mModuleNotFoundError\u001b[0m: No module named 'langchain_groq'",
            "",
            "\u001b[0;31m---------------------------------------------------------------------------\u001b[0;32m\nNOTE: If your import is failing due to a missing package, you can\nmanually install dependencies using either !pip or !apt.\n\nTo view examples of installing some common dependencies, click the\n\"Open Examples\" button below.\n\u001b[0;31m---------------------------------------------------------------------------\u001b[0m\n"
          ],
          "errorDetails": {
            "actions": [
              {
                "action": "open_url",
                "actionText": "Open Examples",
                "url": "/notebooks/snippets/importing_libraries.ipynb"
              }
            ]
          }
        }
      ],
      "source": [
        "from langchain_groq import ChatGroq\n",
        "from langchain_core.messages import HumanMessage\n",
        "\n",
        "GROQ_API_KEY = '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'\n",
        "model = ChatGroq(model=\"llama3-70b-8192\", api_key=GROQ_API_KEY)\n",
        "\n",
        "def generate_response(question):\n",
        "    message = HumanMessage(content=question)\n",
        "    response = model.invoke([message])\n",
        "    return response.content\n",
        "\n",
        "question = input(\"Ask a question:\")\n",
        "answer = generate_response(question)\n",
        "print(answer)"
      ]
    },
    {
      "cell_type": "markdown",
      "id": "0cd82a6b-c5b3-493d-bdac-6d3c5ab60ce0",
      "metadata": {
        "id": "0cd82a6b-c5b3-493d-bdac-6d3c5ab60ce0"
      },
      "source": [
        "### Gemini Response\n",
        "![image.png](attachment:827d2727-d383-42e1-8ea4-8607f5f1658e.png)"
      ]
    },
    {
      "cell_type": "markdown",
      "id": "48fd88f1-9139-4466-965a-2f438fc3f487",
      "metadata": {
        "id": "48fd88f1-9139-4466-965a-2f438fc3f487"
      },
      "source": [
        "### GPT Response\n",
        "![image.png](attachment:5307b983-9c96-484c-b09b-6cdd3dd695fd.png)"
      ]
    },
    {
      "cell_type": "code",
      "execution_count": null,
      "id": "11f3c3f7-3017-4b6f-88cc-0414a9364ee9",
      "metadata": {
        "id": "11f3c3f7-3017-4b6f-88cc-0414a9364ee9"
      },
      "outputs": [],
      "source": [
        "question = input(\"Ask a question:\")\n",
        "answer = generate_response(question)\n",
        "print(answer)"
      ]
    },
    {
      "cell_type": "markdown",
      "id": "02684bbd-32eb-42c4-b51d-3690e52cef5d",
      "metadata": {
        "id": "02684bbd-32eb-42c4-b51d-3690e52cef5d"
      },
      "source": [
        "### Gemini Response\n",
        "![image.png](attachment:b2a75a59-1b59-4de6-8340-e751981f16de.png)"
      ]
    },
    {
      "cell_type": "markdown",
      "id": "1f074b58-8033-4524-9278-65107f2654f5",
      "metadata": {
        "id": "1f074b58-8033-4524-9278-65107f2654f5"
      },
      "source": [
        "### GPT response\n",
        "![image.png](attachment:040e1f7d-f4c0-43ed-a3d2-299f353735e3.png)"
      ]
    },
    {
      "cell_type": "code",
      "execution_count": null,
      "id": "1db0475b-5c7d-4661-aad9-dcbce5f29cfa",
      "metadata": {
        "id": "1db0475b-5c7d-4661-aad9-dcbce5f29cfa"
      },
      "outputs": [],
      "source": [
        "question = input(\"Ask a question:\")\n",
        "answer = generate_response(question)\n",
        "print(answer)"
      ]
    },
    {
      "cell_type": "markdown",
      "id": "ac7dd847-2f81-461d-92af-7a4ad6b6414e",
      "metadata": {
        "id": "ac7dd847-2f81-461d-92af-7a4ad6b6414e"
      },
      "source": [
        "### Gemini Response\n",
        "![image.png](attachment:07a25110-8a68-488c-85e1-fe74ed011761.png)"
      ]
    },
    {
      "cell_type": "markdown",
      "id": "42a591e6-bbe0-4896-bf31-88ddee49b66b",
      "metadata": {
        "id": "42a591e6-bbe0-4896-bf31-88ddee49b66b"
      },
      "source": [
        "### GPT Response\n",
        "![image.png](attachment:97e14786-2790-47d3-a633-37fd4348ce7f.png)"
      ]
    },
    {
      "cell_type": "markdown",
      "id": "023babc1-227b-40d2-b1d6-503b7d77f429",
      "metadata": {
        "id": "023babc1-227b-40d2-b1d6-503b7d77f429"
      },
      "source": [
        "### Prompt Understanding"
      ]
    },
    {
      "cell_type": "code",
      "execution_count": null,
      "id": "f69a520a-2df4-41db-a078-99080c6b20d8",
      "metadata": {
        "id": "f69a520a-2df4-41db-a078-99080c6b20d8"
      },
      "outputs": [],
      "source": [
        "question = input(\"Ask a question:\")\n",
        "answer = generate_response(question)\n",
        "print(answer)"
      ]
    },
    {
      "cell_type": "code",
      "execution_count": null,
      "id": "d3041676-e596-423b-ba18-27c253903be7",
      "metadata": {
        "id": "d3041676-e596-423b-ba18-27c253903be7"
      },
      "outputs": [],
      "source": [
        "question = input(\"Ask a question:\")\n",
        "answer = generate_response(question)\n",
        "print(answer)"
      ]
    },
    {
      "cell_type": "code",
      "execution_count": null,
      "id": "f4495291-c466-4dd4-b719-08f1851921aa",
      "metadata": {
        "id": "f4495291-c466-4dd4-b719-08f1851921aa"
      },
      "outputs": [],
      "source": []
    }
  ],
  "metadata": {
    "kernelspec": {
      "display_name": "Python 3 (ipykernel)",
      "language": "python",
      "name": "python3"
    },
    "language_info": {
      "codemirror_mode": {
        "name": "ipython",
        "version": 3
      },
      "file_extension": ".py",
      "mimetype": "text/x-python",
      "name": "python",
      "nbconvert_exporter": "python",
      "pygments_lexer": "ipython3",
      "version": "3.11.7"
    },
    "colab": {
      "provenance": [],
      "include_colab_link": true
    }
  },
  "nbformat": 4,
  "nbformat_minor": 5
}